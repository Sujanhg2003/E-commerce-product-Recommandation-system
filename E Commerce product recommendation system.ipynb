{
 "cells": [
  {
   "cell_type": "code",
   "execution_count": 29,
   "id": "c6bb3987-9b59-48f3-bf28-628d0ffe2479",
   "metadata": {},
   "outputs": [],
   "source": [
    "import pandas as pd\n",
    "import numpy as np\n",
    "import matplotlib.pyplot as plt\n",
    "import seaborn as sns\n",
    "\n",
    "from sklearn.metrics.pairwise import cosine_similarity,linear_kernel\n",
    "from sklearn.feature_extraction.text import TfidfVectorizer\n",
    "\n",
    "import os\n",
    "from scipy.sparse import coo_matrix"
   ]
  },
  {
   "cell_type": "code",
   "execution_count": 2,
   "id": "3dffe6a0-f2cf-43d2-90a2-29a7ffd21c7a",
   "metadata": {},
   "outputs": [
    {
     "data": {
      "text/html": [
       "<div>\n",
       "<style scoped>\n",
       "    .dataframe tbody tr th:only-of-type {\n",
       "        vertical-align: middle;\n",
       "    }\n",
       "\n",
       "    .dataframe tbody tr th {\n",
       "        vertical-align: top;\n",
       "    }\n",
       "\n",
       "    .dataframe thead th {\n",
       "        text-align: right;\n",
       "    }\n",
       "</style>\n",
       "<table border=\"1\" class=\"dataframe\">\n",
       "  <thead>\n",
       "    <tr style=\"text-align: right;\">\n",
       "      <th></th>\n",
       "      <th>product_id</th>\n",
       "      <th>product_name</th>\n",
       "      <th>category</th>\n",
       "      <th>discounted_price</th>\n",
       "      <th>actual_price</th>\n",
       "      <th>discount_percentage</th>\n",
       "      <th>rating</th>\n",
       "      <th>rating_count</th>\n",
       "      <th>about_product</th>\n",
       "      <th>user_id</th>\n",
       "      <th>user_name</th>\n",
       "      <th>review_id</th>\n",
       "      <th>review_title</th>\n",
       "      <th>review_content</th>\n",
       "      <th>img_link</th>\n",
       "      <th>product_link</th>\n",
       "    </tr>\n",
       "  </thead>\n",
       "  <tbody>\n",
       "    <tr>\n",
       "      <th>0</th>\n",
       "      <td>B07JW9H4J1</td>\n",
       "      <td>Wayona Nylon Braided USB to Lightning Fast Cha...</td>\n",
       "      <td>Computers&amp;Accessories|Accessories&amp;Peripherals|...</td>\n",
       "      <td>₹399</td>\n",
       "      <td>₹1,099</td>\n",
       "      <td>64%</td>\n",
       "      <td>4.2</td>\n",
       "      <td>24,269</td>\n",
       "      <td>High Compatibility : Compatible With iPhone 12...</td>\n",
       "      <td>AG3D6O4STAQKAY2UVGEUV46KN35Q,AHMY5CWJMMK5BJRBB...</td>\n",
       "      <td>Manav,Adarsh gupta,Sundeep,S.Sayeed Ahmed,jasp...</td>\n",
       "      <td>R3HXWT0LRP0NMF,R2AJM3LFTLZHFO,R6AQJGUP6P86,R1K...</td>\n",
       "      <td>Satisfied,Charging is really fast,Value for mo...</td>\n",
       "      <td>Looks durable Charging is fine tooNo complains...</td>\n",
       "      <td>https://m.media-amazon.com/images/W/WEBP_40237...</td>\n",
       "      <td>https://www.amazon.in/Wayona-Braided-WN3LG1-Sy...</td>\n",
       "    </tr>\n",
       "    <tr>\n",
       "      <th>1</th>\n",
       "      <td>B098NS6PVG</td>\n",
       "      <td>Ambrane Unbreakable 60W / 3A Fast Charging 1.5...</td>\n",
       "      <td>Computers&amp;Accessories|Accessories&amp;Peripherals|...</td>\n",
       "      <td>₹199</td>\n",
       "      <td>₹349</td>\n",
       "      <td>43%</td>\n",
       "      <td>4.0</td>\n",
       "      <td>43,994</td>\n",
       "      <td>Compatible with all Type C enabled devices, be...</td>\n",
       "      <td>AECPFYFQVRUWC3KGNLJIOREFP5LQ,AGYYVPDD7YG7FYNBX...</td>\n",
       "      <td>ArdKn,Nirbhay kumar,Sagar Viswanathan,Asp,Plac...</td>\n",
       "      <td>RGIQEG07R9HS2,R1SMWZQ86XIN8U,R2J3Y1WL29GWDE,RY...</td>\n",
       "      <td>A Good Braided Cable for Your Type C Device,Go...</td>\n",
       "      <td>I ordered this cable to connect my phone to An...</td>\n",
       "      <td>https://m.media-amazon.com/images/W/WEBP_40237...</td>\n",
       "      <td>https://www.amazon.in/Ambrane-Unbreakable-Char...</td>\n",
       "    </tr>\n",
       "  </tbody>\n",
       "</table>\n",
       "</div>"
      ],
      "text/plain": [
       "   product_id                                       product_name  \\\n",
       "0  B07JW9H4J1  Wayona Nylon Braided USB to Lightning Fast Cha...   \n",
       "1  B098NS6PVG  Ambrane Unbreakable 60W / 3A Fast Charging 1.5...   \n",
       "\n",
       "                                            category discounted_price  \\\n",
       "0  Computers&Accessories|Accessories&Peripherals|...             ₹399   \n",
       "1  Computers&Accessories|Accessories&Peripherals|...             ₹199   \n",
       "\n",
       "  actual_price discount_percentage rating rating_count  \\\n",
       "0       ₹1,099                 64%    4.2       24,269   \n",
       "1         ₹349                 43%    4.0       43,994   \n",
       "\n",
       "                                       about_product  \\\n",
       "0  High Compatibility : Compatible With iPhone 12...   \n",
       "1  Compatible with all Type C enabled devices, be...   \n",
       "\n",
       "                                             user_id  \\\n",
       "0  AG3D6O4STAQKAY2UVGEUV46KN35Q,AHMY5CWJMMK5BJRBB...   \n",
       "1  AECPFYFQVRUWC3KGNLJIOREFP5LQ,AGYYVPDD7YG7FYNBX...   \n",
       "\n",
       "                                           user_name  \\\n",
       "0  Manav,Adarsh gupta,Sundeep,S.Sayeed Ahmed,jasp...   \n",
       "1  ArdKn,Nirbhay kumar,Sagar Viswanathan,Asp,Plac...   \n",
       "\n",
       "                                           review_id  \\\n",
       "0  R3HXWT0LRP0NMF,R2AJM3LFTLZHFO,R6AQJGUP6P86,R1K...   \n",
       "1  RGIQEG07R9HS2,R1SMWZQ86XIN8U,R2J3Y1WL29GWDE,RY...   \n",
       "\n",
       "                                        review_title  \\\n",
       "0  Satisfied,Charging is really fast,Value for mo...   \n",
       "1  A Good Braided Cable for Your Type C Device,Go...   \n",
       "\n",
       "                                      review_content  \\\n",
       "0  Looks durable Charging is fine tooNo complains...   \n",
       "1  I ordered this cable to connect my phone to An...   \n",
       "\n",
       "                                            img_link  \\\n",
       "0  https://m.media-amazon.com/images/W/WEBP_40237...   \n",
       "1  https://m.media-amazon.com/images/W/WEBP_40237...   \n",
       "\n",
       "                                        product_link  \n",
       "0  https://www.amazon.in/Wayona-Braided-WN3LG1-Sy...  \n",
       "1  https://www.amazon.in/Ambrane-Unbreakable-Char...  "
      ]
     },
     "execution_count": 2,
     "metadata": {},
     "output_type": "execute_result"
    }
   ],
   "source": [
    "df = pd.read_csv(r\"C:\\Users\\Sujan H G\\OneDrive\\Desktop\\amazon.csv\")\n",
    "df.head(2)"
   ]
  },
  {
   "cell_type": "code",
   "execution_count": 3,
   "id": "adfa17f1-8459-4fb2-ae80-9da54292af2a",
   "metadata": {},
   "outputs": [],
   "source": [
    "data=df[[\"user_id\",\"product_id\",\"product_name\",\"category\",\"actual_price\",\"rating\",\"rating_count\",\"about_product\"]]"
   ]
  },
  {
   "cell_type": "code",
   "execution_count": 4,
   "id": "7c85d2b1-6916-42fc-a3b6-39abbb2fc03c",
   "metadata": {},
   "outputs": [
    {
     "data": {
      "text/html": [
       "<div>\n",
       "<style scoped>\n",
       "    .dataframe tbody tr th:only-of-type {\n",
       "        vertical-align: middle;\n",
       "    }\n",
       "\n",
       "    .dataframe tbody tr th {\n",
       "        vertical-align: top;\n",
       "    }\n",
       "\n",
       "    .dataframe thead th {\n",
       "        text-align: right;\n",
       "    }\n",
       "</style>\n",
       "<table border=\"1\" class=\"dataframe\">\n",
       "  <thead>\n",
       "    <tr style=\"text-align: right;\">\n",
       "      <th></th>\n",
       "      <th>user_id</th>\n",
       "      <th>product_id</th>\n",
       "      <th>product_name</th>\n",
       "      <th>category</th>\n",
       "      <th>actual_price</th>\n",
       "      <th>rating</th>\n",
       "      <th>rating_count</th>\n",
       "      <th>about_product</th>\n",
       "    </tr>\n",
       "  </thead>\n",
       "  <tbody>\n",
       "    <tr>\n",
       "      <th>0</th>\n",
       "      <td>AG3D6O4STAQKAY2UVGEUV46KN35Q,AHMY5CWJMMK5BJRBB...</td>\n",
       "      <td>B07JW9H4J1</td>\n",
       "      <td>Wayona Nylon Braided USB to Lightning Fast Cha...</td>\n",
       "      <td>Computers&amp;Accessories|Accessories&amp;Peripherals|...</td>\n",
       "      <td>₹1,099</td>\n",
       "      <td>4.2</td>\n",
       "      <td>24,269</td>\n",
       "      <td>High Compatibility : Compatible With iPhone 12...</td>\n",
       "    </tr>\n",
       "    <tr>\n",
       "      <th>1</th>\n",
       "      <td>AECPFYFQVRUWC3KGNLJIOREFP5LQ,AGYYVPDD7YG7FYNBX...</td>\n",
       "      <td>B098NS6PVG</td>\n",
       "      <td>Ambrane Unbreakable 60W / 3A Fast Charging 1.5...</td>\n",
       "      <td>Computers&amp;Accessories|Accessories&amp;Peripherals|...</td>\n",
       "      <td>₹349</td>\n",
       "      <td>4.0</td>\n",
       "      <td>43,994</td>\n",
       "      <td>Compatible with all Type C enabled devices, be...</td>\n",
       "    </tr>\n",
       "  </tbody>\n",
       "</table>\n",
       "</div>"
      ],
      "text/plain": [
       "                                             user_id  product_id  \\\n",
       "0  AG3D6O4STAQKAY2UVGEUV46KN35Q,AHMY5CWJMMK5BJRBB...  B07JW9H4J1   \n",
       "1  AECPFYFQVRUWC3KGNLJIOREFP5LQ,AGYYVPDD7YG7FYNBX...  B098NS6PVG   \n",
       "\n",
       "                                        product_name  \\\n",
       "0  Wayona Nylon Braided USB to Lightning Fast Cha...   \n",
       "1  Ambrane Unbreakable 60W / 3A Fast Charging 1.5...   \n",
       "\n",
       "                                            category actual_price rating  \\\n",
       "0  Computers&Accessories|Accessories&Peripherals|...       ₹1,099    4.2   \n",
       "1  Computers&Accessories|Accessories&Peripherals|...         ₹349    4.0   \n",
       "\n",
       "  rating_count                                      about_product  \n",
       "0       24,269  High Compatibility : Compatible With iPhone 12...  \n",
       "1       43,994  Compatible with all Type C enabled devices, be...  "
      ]
     },
     "execution_count": 4,
     "metadata": {},
     "output_type": "execute_result"
    }
   ],
   "source": [
    "data.head(2)"
   ]
  },
  {
   "cell_type": "code",
   "execution_count": 5,
   "id": "a0a6fd1e-f702-4ce4-ad8c-46e47d0ec58f",
   "metadata": {},
   "outputs": [
    {
     "name": "stdout",
     "output_type": "stream",
     "text": [
      "<class 'pandas.core.frame.DataFrame'>\n",
      "RangeIndex: 1465 entries, 0 to 1464\n",
      "Data columns (total 8 columns):\n",
      " #   Column         Non-Null Count  Dtype \n",
      "---  ------         --------------  ----- \n",
      " 0   user_id        1465 non-null   object\n",
      " 1   product_id     1465 non-null   object\n",
      " 2   product_name   1465 non-null   object\n",
      " 3   category       1465 non-null   object\n",
      " 4   actual_price   1465 non-null   object\n",
      " 5   rating         1465 non-null   object\n",
      " 6   rating_count   1463 non-null   object\n",
      " 7   about_product  1465 non-null   object\n",
      "dtypes: object(8)\n",
      "memory usage: 91.7+ KB\n"
     ]
    }
   ],
   "source": [
    "data.info()"
   ]
  },
  {
   "cell_type": "code",
   "execution_count": 6,
   "id": "fd3dd626-b8bd-41bb-b425-9b2dd5d0fda2",
   "metadata": {},
   "outputs": [
    {
     "data": {
      "text/plain": [
       "user_id          0\n",
       "product_id       0\n",
       "product_name     0\n",
       "category         0\n",
       "actual_price     0\n",
       "rating           0\n",
       "rating_count     2\n",
       "about_product    0\n",
       "dtype: int64"
      ]
     },
     "execution_count": 6,
     "metadata": {},
     "output_type": "execute_result"
    }
   ],
   "source": [
    "data.isnull().sum()"
   ]
  },
  {
   "cell_type": "code",
   "execution_count": 7,
   "id": "ba4efa04-97a0-4890-951b-f8cfcae3985f",
   "metadata": {},
   "outputs": [],
   "source": [
    "data=data.dropna()"
   ]
  },
  {
   "cell_type": "code",
   "execution_count": 8,
   "id": "70dd52d4-3b97-405f-a731-252c4d874eab",
   "metadata": {},
   "outputs": [
    {
     "data": {
      "text/plain": [
       "user_id          0\n",
       "product_id       0\n",
       "product_name     0\n",
       "category         0\n",
       "actual_price     0\n",
       "rating           0\n",
       "rating_count     0\n",
       "about_product    0\n",
       "dtype: int64"
      ]
     },
     "execution_count": 8,
     "metadata": {},
     "output_type": "execute_result"
    }
   ],
   "source": [
    "data.isnull().sum()"
   ]
  },
  {
   "cell_type": "code",
   "execution_count": 9,
   "id": "24b106a1-3e6b-4208-94d1-7e52fa19f683",
   "metadata": {},
   "outputs": [
    {
     "data": {
      "text/plain": [
       "(1463, 8)"
      ]
     },
     "execution_count": 9,
     "metadata": {},
     "output_type": "execute_result"
    }
   ],
   "source": [
    "data.shape"
   ]
  },
  {
   "cell_type": "code",
   "execution_count": 10,
   "id": "6775f40f-7964-4c79-a72e-b8810b6201be",
   "metadata": {},
   "outputs": [],
   "source": [
    "data=data.drop_duplicates()"
   ]
  },
  {
   "cell_type": "code",
   "execution_count": 11,
   "id": "1c3b8151-3e50-4ad7-b5f8-cdd18f2f5663",
   "metadata": {},
   "outputs": [
    {
     "data": {
      "text/plain": [
       "0"
      ]
     },
     "execution_count": 11,
     "metadata": {},
     "output_type": "execute_result"
    }
   ],
   "source": [
    "data.duplicated().sum()"
   ]
  },
  {
   "cell_type": "code",
   "execution_count": 12,
   "id": "56ad6a22-35a9-43ba-9026-1295afada77c",
   "metadata": {},
   "outputs": [
    {
     "data": {
      "text/plain": [
       "(1390, 8)"
      ]
     },
     "execution_count": 12,
     "metadata": {},
     "output_type": "execute_result"
    }
   ],
   "source": [
    "data.shape"
   ]
  },
  {
   "cell_type": "code",
   "execution_count": 13,
   "id": "caa906b0-7d38-4bcb-a0c5-8030736ac462",
   "metadata": {},
   "outputs": [],
   "source": [
    "data['user_id']=data['user_id'].str.extract(r'(\\d+)').astype(float)\n",
    "data['product_id']=data['product_id'].str.extract(r'(\\d+)').astype(float)"
   ]
  },
  {
   "cell_type": "code",
   "execution_count": 15,
   "id": "48305384-c277-4c28-81ad-3c6cb2b6bbb9",
   "metadata": {},
   "outputs": [
    {
     "data": {
      "text/html": [
       "<div>\n",
       "<style scoped>\n",
       "    .dataframe tbody tr th:only-of-type {\n",
       "        vertical-align: middle;\n",
       "    }\n",
       "\n",
       "    .dataframe tbody tr th {\n",
       "        vertical-align: top;\n",
       "    }\n",
       "\n",
       "    .dataframe thead th {\n",
       "        text-align: right;\n",
       "    }\n",
       "</style>\n",
       "<table border=\"1\" class=\"dataframe\">\n",
       "  <thead>\n",
       "    <tr style=\"text-align: right;\">\n",
       "      <th></th>\n",
       "      <th>user_id</th>\n",
       "      <th>product_id</th>\n",
       "      <th>product_name</th>\n",
       "      <th>category</th>\n",
       "      <th>actual_price</th>\n",
       "      <th>rating</th>\n",
       "      <th>rating_count</th>\n",
       "      <th>about_product</th>\n",
       "    </tr>\n",
       "  </thead>\n",
       "  <tbody>\n",
       "    <tr>\n",
       "      <th>0</th>\n",
       "      <td>3.0</td>\n",
       "      <td>7.0</td>\n",
       "      <td>Wayona Nylon Braided USB to Lightning Fast Cha...</td>\n",
       "      <td>Computers&amp;Accessories|Accessories&amp;Peripherals|...</td>\n",
       "      <td>₹1,099</td>\n",
       "      <td>4.2</td>\n",
       "      <td>24,269</td>\n",
       "      <td>High Compatibility : Compatible With iPhone 12...</td>\n",
       "    </tr>\n",
       "    <tr>\n",
       "      <th>1</th>\n",
       "      <td>3.0</td>\n",
       "      <td>98.0</td>\n",
       "      <td>Ambrane Unbreakable 60W / 3A Fast Charging 1.5...</td>\n",
       "      <td>Computers&amp;Accessories|Accessories&amp;Peripherals|...</td>\n",
       "      <td>₹349</td>\n",
       "      <td>4.0</td>\n",
       "      <td>43,994</td>\n",
       "      <td>Compatible with all Type C enabled devices, be...</td>\n",
       "    </tr>\n",
       "  </tbody>\n",
       "</table>\n",
       "</div>"
      ],
      "text/plain": [
       "   user_id  product_id                                       product_name  \\\n",
       "0      3.0         7.0  Wayona Nylon Braided USB to Lightning Fast Cha...   \n",
       "1      3.0        98.0  Ambrane Unbreakable 60W / 3A Fast Charging 1.5...   \n",
       "\n",
       "                                            category actual_price rating  \\\n",
       "0  Computers&Accessories|Accessories&Peripherals|...       ₹1,099    4.2   \n",
       "1  Computers&Accessories|Accessories&Peripherals|...         ₹349    4.0   \n",
       "\n",
       "  rating_count                                      about_product  \n",
       "0       24,269  High Compatibility : Compatible With iPhone 12...  \n",
       "1       43,994  Compatible with all Type C enabled devices, be...  "
      ]
     },
     "execution_count": 15,
     "metadata": {},
     "output_type": "execute_result"
    }
   ],
   "source": [
    "data.head(2)"
   ]
  },
  {
   "cell_type": "code",
   "execution_count": 21,
   "id": "fe5216f4-a8d4-43cf-a406-3d7211bda093",
   "metadata": {},
   "outputs": [
    {
     "name": "stdout",
     "output_type": "stream",
     "text": [
      "Unique users: 88 Unique Items: 114 Number of unque rating: 28\n"
     ]
    }
   ],
   "source": [
    "num_user=data['user_id'].nunique()\n",
    "num_items=data['product_id'].nunique()\n",
    "num_rating=data['rating'].nunique()\n",
    "\n",
    "print(\"Unique users:\",num_user,\"Unique Items:\",num_items,\"Number of unque rating:\",num_rating)"
   ]
  },
  {
   "cell_type": "markdown",
   "id": "4e6da9e8-b20e-49e3-8f6e-c74fe4559302",
   "metadata": {},
   "source": [
    "#data preprocessing"
   ]
  },
  {
   "cell_type": "code",
   "execution_count": 23,
   "id": "bacfaa98-3ca7-42e9-ab81-e7ee77531f87",
   "metadata": {},
   "outputs": [],
   "source": [
    "data[\"features\"]=data[\"product_name\"]+\" \"+data[\"category\"]+\" \"+data[\"about_product\"]"
   ]
  },
  {
   "cell_type": "code",
   "execution_count": 27,
   "id": "3abb33c7-6136-4b9a-871a-4a312f471cb1",
   "metadata": {},
   "outputs": [],
   "source": [
    "tfid=TfidfVectorizer(stop_words='english')\n",
    "tfid_matrix=tfid.fit_transform(data['features'])"
   ]
  },
  {
   "cell_type": "markdown",
   "id": "88d45a9f-63a0-4f4a-8d0c-8a8265b423ef",
   "metadata": {},
   "source": [
    "Content Based Recommendation system"
   ]
  },
  {
   "cell_type": "code",
   "execution_count": 30,
   "id": "5ede4ae7-6b58-4ad5-a575-c6b387399fd0",
   "metadata": {},
   "outputs": [],
   "source": [
    "cosine_sim=linear_kernel(tfid_matrix,tfid_matrix)"
   ]
  },
  {
   "cell_type": "code",
   "execution_count": 34,
   "id": "de78c1a7-8f0f-49f7-9f94-364a59147889",
   "metadata": {},
   "outputs": [
    {
     "data": {
      "text/plain": [
       "array([[1.        , 0.15515949, 0.32767569, ..., 0.02735086, 0.03610305,\n",
       "        0.0020171 ],\n",
       "       [0.15515949, 1.        , 0.17319734, ..., 0.        , 0.01172763,\n",
       "        0.02225319],\n",
       "       [0.32767569, 0.17319734, 1.        , ..., 0.01922905, 0.03348415,\n",
       "        0.        ],\n",
       "       ...,\n",
       "       [0.02735086, 0.        , 0.01922905, ..., 1.        , 0.1458264 ,\n",
       "        0.02038313],\n",
       "       [0.03610305, 0.01172763, 0.03348415, ..., 0.1458264 , 1.        ,\n",
       "        0.02967786],\n",
       "       [0.0020171 , 0.02225319, 0.        , ..., 0.02038313, 0.02967786,\n",
       "        1.        ]])"
      ]
     },
     "execution_count": 34,
     "metadata": {},
     "output_type": "execute_result"
    }
   ],
   "source": [
    "cosine_sim"
   ]
  },
  {
   "cell_type": "markdown",
   "id": "52667e51-7d15-44eb-8ea5-a281e9af2c41",
   "metadata": {},
   "source": [
    "function to get recommendation"
   ]
  },
  {
   "cell_type": "code",
   "execution_count": 77,
   "id": "40141cae-8135-4e6e-8075-fe06839f6e33",
   "metadata": {},
   "outputs": [],
   "source": [
    "def get_recommendation(product_id,cosine_sim=cosine_sim):\n",
    "    idx=data[data['product_id']==product_id].index[0]\n",
    "    sim_scores=list(enumerate(cosine_sim[idx]))\n",
    "    sim_scores=sorted(sim_scores,key=lambda x:x[1],reverse=True)\n",
    "    sim_scores=sim_scores[1:11]\n",
    "    prod_index=[i[0] for i in sim_scores]\n",
    "\n",
    "    return data.iloc[prod_index][['product_id','product_name',\"actual_price\",\"rating\"]]"
   ]
  },
  {
   "cell_type": "code",
   "execution_count": 78,
   "id": "85545975-3e33-4243-ac2c-1bff5b367f4c",
   "metadata": {},
   "outputs": [
    {
     "data": {
      "text/plain": [
       "0          7.0\n",
       "1         98.0\n",
       "2         96.0\n",
       "3          8.0\n",
       "4          8.0\n",
       "         ...  \n",
       "1460       8.0\n",
       "1461       1.0\n",
       "1462       9.0\n",
       "1463       0.0\n",
       "1464    1486.0\n",
       "Name: product_id, Length: 1390, dtype: float64"
      ]
     },
     "execution_count": 78,
     "metadata": {},
     "output_type": "execute_result"
    }
   ],
   "source": [
    "data[\"product_id\"]"
   ]
  },
  {
   "cell_type": "code",
   "execution_count": 79,
   "id": "c01c71e7-735c-4f03-b5fa-f3481a0e311e",
   "metadata": {},
   "outputs": [],
   "source": [
    "recommendation=get_recommendation(8)"
   ]
  },
  {
   "cell_type": "code",
   "execution_count": 80,
   "id": "f7520ef2-ee3d-48d7-a471-d55fde09f0bf",
   "metadata": {},
   "outputs": [
    {
     "data": {
      "text/html": [
       "<div>\n",
       "<style scoped>\n",
       "    .dataframe tbody tr th:only-of-type {\n",
       "        vertical-align: middle;\n",
       "    }\n",
       "\n",
       "    .dataframe tbody tr th {\n",
       "        vertical-align: top;\n",
       "    }\n",
       "\n",
       "    .dataframe thead th {\n",
       "        text-align: right;\n",
       "    }\n",
       "</style>\n",
       "<table border=\"1\" class=\"dataframe\">\n",
       "  <thead>\n",
       "    <tr style=\"text-align: right;\">\n",
       "      <th></th>\n",
       "      <th>product_id</th>\n",
       "      <th>product_name</th>\n",
       "      <th>actual_price</th>\n",
       "      <th>rating</th>\n",
       "    </tr>\n",
       "  </thead>\n",
       "  <tbody>\n",
       "    <tr>\n",
       "      <th>392</th>\n",
       "      <td>8.0</td>\n",
       "      <td>boAt Deuce USB 300 2 in 1 Type-C &amp; Micro USB S...</td>\n",
       "      <td>₹699</td>\n",
       "      <td>4.2</td>\n",
       "    </tr>\n",
       "    <tr>\n",
       "      <th>92</th>\n",
       "      <td>8.0</td>\n",
       "      <td>boAt Deuce USB 300 2 in 1 Type-C &amp; Micro USB S...</td>\n",
       "      <td>₹699</td>\n",
       "      <td>4.2</td>\n",
       "    </tr>\n",
       "    <tr>\n",
       "      <th>113</th>\n",
       "      <td>9.0</td>\n",
       "      <td>boAt Type C A750 Stress Resistant, Tangle-free...</td>\n",
       "      <td>₹999</td>\n",
       "      <td>4.1</td>\n",
       "    </tr>\n",
       "    <tr>\n",
       "      <th>74</th>\n",
       "      <td>9.0</td>\n",
       "      <td>boAt Type C A750 Stress Resistant, Tangle-free...</td>\n",
       "      <td>₹999</td>\n",
       "      <td>4.1</td>\n",
       "    </tr>\n",
       "    <tr>\n",
       "      <th>6</th>\n",
       "      <td>8.0</td>\n",
       "      <td>boAt Micro USB 55 Tangle-free, Sturdy Micro US...</td>\n",
       "      <td>₹499</td>\n",
       "      <td>4.1</td>\n",
       "    </tr>\n",
       "    <tr>\n",
       "      <th>418</th>\n",
       "      <td>8.0</td>\n",
       "      <td>boAt Micro USB 55 Tangle-free, Sturdy Micro US...</td>\n",
       "      <td>₹499</td>\n",
       "      <td>4.1</td>\n",
       "    </tr>\n",
       "    <tr>\n",
       "      <th>18</th>\n",
       "      <td>8.0</td>\n",
       "      <td>boAt Type C A325 Tangle-free, Sturdy Type C Ca...</td>\n",
       "      <td>₹499</td>\n",
       "      <td>4.1</td>\n",
       "    </tr>\n",
       "    <tr>\n",
       "      <th>472</th>\n",
       "      <td>8.0</td>\n",
       "      <td>boAt Type C A325 Tangle-free, Sturdy Type C Ca...</td>\n",
       "      <td>₹499</td>\n",
       "      <td>4.1</td>\n",
       "    </tr>\n",
       "    <tr>\n",
       "      <th>83</th>\n",
       "      <td>974.0</td>\n",
       "      <td>boAt A 350 Type C Cable for Smartphone, Chargi...</td>\n",
       "      <td>₹799</td>\n",
       "      <td>4.4</td>\n",
       "    </tr>\n",
       "    <tr>\n",
       "      <th>245</th>\n",
       "      <td>8.0</td>\n",
       "      <td>Boat A 350 Type C Cable 1.5m(Jet Black)</td>\n",
       "      <td>₹798</td>\n",
       "      <td>4.4</td>\n",
       "    </tr>\n",
       "  </tbody>\n",
       "</table>\n",
       "</div>"
      ],
      "text/plain": [
       "     product_id                                       product_name  \\\n",
       "392         8.0  boAt Deuce USB 300 2 in 1 Type-C & Micro USB S...   \n",
       "92          8.0  boAt Deuce USB 300 2 in 1 Type-C & Micro USB S...   \n",
       "113         9.0  boAt Type C A750 Stress Resistant, Tangle-free...   \n",
       "74          9.0  boAt Type C A750 Stress Resistant, Tangle-free...   \n",
       "6           8.0  boAt Micro USB 55 Tangle-free, Sturdy Micro US...   \n",
       "418         8.0  boAt Micro USB 55 Tangle-free, Sturdy Micro US...   \n",
       "18          8.0  boAt Type C A325 Tangle-free, Sturdy Type C Ca...   \n",
       "472         8.0  boAt Type C A325 Tangle-free, Sturdy Type C Ca...   \n",
       "83        974.0  boAt A 350 Type C Cable for Smartphone, Chargi...   \n",
       "245         8.0            Boat A 350 Type C Cable 1.5m(Jet Black)   \n",
       "\n",
       "    actual_price rating  \n",
       "392         ₹699    4.2  \n",
       "92          ₹699    4.2  \n",
       "113         ₹999    4.1  \n",
       "74          ₹999    4.1  \n",
       "6           ₹499    4.1  \n",
       "418         ₹499    4.1  \n",
       "18          ₹499    4.1  \n",
       "472         ₹499    4.1  \n",
       "83          ₹799    4.4  \n",
       "245         ₹798    4.4  "
      ]
     },
     "execution_count": 80,
     "metadata": {},
     "output_type": "execute_result"
    }
   ],
   "source": [
    "recommendation"
   ]
  },
  {
   "cell_type": "code",
   "execution_count": null,
   "id": "261705ef-7d0f-40fd-8563-d7877a7b0f8d",
   "metadata": {},
   "outputs": [],
   "source": []
  },
  {
   "cell_type": "markdown",
   "id": "a611eccf-9ecc-467e-b190-9473cafec7e2",
   "metadata": {},
   "source": [
    "Collebrative recommendation system"
   ]
  },
  {
   "cell_type": "code",
   "execution_count": null,
   "id": "68551fee-85fa-4e46-8a2d-eb8f7a67c747",
   "metadata": {},
   "outputs": [],
   "source": []
  }
 ],
 "metadata": {
  "kernelspec": {
   "display_name": "Python 3 (ipykernel)",
   "language": "python",
   "name": "python3"
  },
  "language_info": {
   "codemirror_mode": {
    "name": "ipython",
    "version": 3
   },
   "file_extension": ".py",
   "mimetype": "text/x-python",
   "name": "python",
   "nbconvert_exporter": "python",
   "pygments_lexer": "ipython3",
   "version": "3.11.7"
  }
 },
 "nbformat": 4,
 "nbformat_minor": 5
}
